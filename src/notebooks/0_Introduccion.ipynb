{
 "cells": [
  {
   "cell_type": "markdown",
   "metadata": {},
   "source": [
    "<div style=\"display: flex; align-items: center;\">\n",
    "    <img src=\"src/logo/logocsic.jpg\" width=\"150\"/>\n",
    "    <img src=\"src/logo/logo.jpg\" width=\"180\"/>\n",
    "</div>"
   ]
  },
  {
   "cell_type": "markdown",
   "metadata": {},
   "source": [
    "<span style=\"color:#000000; font-size:30px\">**Procesamiento y Representación de Logs con Python**</span>  \n",
    "\n",
    "<span style=\"color:#C0C0C0; font-size:15px\">**GEO3BCN (CSIC)**</span> \n",
    "\n",
    "<span style=\"color:#808080; font-size:20px\">**Febrero 2025**</span>  \n",
    "\n",
    "<br><br> <!-- Espacio adicional -->\n",
    "\n",
    "***  \n",
    "<span style=\"color:#FFB3A7; font-size:17px\">**Objetivo**</span>\n",
    " \n",
    "Aprender a **procesar, graficar y analizar datos geotérmicos y estructurales** utilizando **Python**.  \n",
    "\n",
    "<span style=\"color:#FFB3A7; font-size:17px\">**¿Qué aprenderemos?**</span> \n",
    "\n",
    "Aprenderemos a trabajar con datos de **temperatura, gamma y estructuras geológicas**.  \n",
    "\n",
    "<span style=\"color:#FFB3A7; font-size:17px\">**¿Por qué usar Python?**</span>  \n",
    "\n",
    "- Permite **procesar y graficar** datos sin necesidad de software propietario.  \n",
    "- Se puede utilizar como **complemento a WellCAD** para análisis más avanzados.  \n",
    "- Facilita la automatización y tratamiento de grandes volúmenes de datos. \n",
    "\n",
    "<br> <!-- Espacio adicional -->"
   ]
  },
  {
   "cell_type": "markdown",
   "metadata": {},
   "source": [
    "\n",
    "<span style=\"font-size:20px;color:#FFB3A7\">**Contenido**</span> \n",
    "\n",
    "\n",
    "1. [**Preparación Preliminar**](1_Preparacion_preliminar.ipynb)\n",
    "\n",
    "2. **Tipos de Datos**  \n",
    "   - [Temperatura](2_Datos_temperaturas.ipynb)\n",
    "   - [Gamma](3_Datos_gamma.ipynb)  \n",
    "   - [Datos estructurales (fracturas)](4_Datos_estructurales.ipynb)\n",
    "   \n",
    "3. [**Visualización Integrada de los datos**](5_Visualizacion_integrada.ipynb)\n",
    "\n",
    "\n",
    "<br><!-- Espacio adicional -->"
   ]
  },
  {
   "cell_type": "markdown",
   "metadata": {},
   "source": [
    "\n",
    "### <span style=\"font-size:20px; color:#FFB3A7 \">**Recursos**</span>\n",
    "\n",
    "- Andy McDonald. [Youtube](https://www.youtube.com/@AndyMcDonald42).\n",
    "   - Libreria welly. [Link](https://code.agilescientific.com/welly/userguide/Quick_start.html)\n",
    "- Software Underground. [Youtube](https://www.youtube.com/@SoftwareUnderground).\n",
    "   - Tutorial: Geothermal well test analysis with Python. [Youtube](https://www.youtube.com/watch?v=VEKrTV89Ln8&t=2939s).\n",
    "\n",
    "- Libreria mplstereonet. [Link](https://pypi.org/project/mplstereonet/). \n",
    "- Libreria Pandas. [Link](https://pandas.pydata.org/pandas-docs/stable/getting_started/install.html)\n",
    "- Libreria Matplotlib. [Link](https://matplotlib.org/)\n",
    "- Libreria Scipy. [Link](https://scipy.org/)\n",
    "- Libreria Seaborn. [Link](https://seaborn.pydata.org/)\n",
    "\n",
    "- Colores para Matplotlib. [link](https://python-charts.com/es/colores/?utm_content=cmp-true)\n"
   ]
  }
 ],
 "metadata": {
  "language_info": {
   "name": "python"
  }
 },
 "nbformat": 4,
 "nbformat_minor": 2
}
