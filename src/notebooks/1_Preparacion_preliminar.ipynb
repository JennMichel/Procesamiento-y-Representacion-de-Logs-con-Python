{
 "cells": [
  {
   "cell_type": "markdown",
   "metadata": {},
   "source": [
    "<span style=\"color:#8DB6CD; font-size:30px\">**Preparación preliminar**</span>\n",
    "***\n",
    "\n"
   ]
  },
  {
   "cell_type": "markdown",
   "metadata": {},
   "source": [
    "<span style=\"color:#FFB3A7; font-size:20px\">**Índice**</span>\n",
    " \n",
    "\n",
    "- [Descarga e instalación de Python](#descarga_instalacion_python)\n",
    "- [JupyterLab y VS Code: Entornos para Python](#entronos)\n",
    "- [Librerías](#librerias)\n"
   ]
  },
  {
   "cell_type": "markdown",
   "metadata": {},
   "source": [
    "### <a id=\"descarga_instalacion_python\"></a> <span style=\"color:#FFB3A7; font-size:20px\"> **Descarga e instalación de Python en Windows** </span>\n",
    "***"
   ]
  },
  {
   "cell_type": "markdown",
   "metadata": {},
   "source": [
    "\n",
    "**Paso 1: Descargar Python**\n",
    "1. Visita la página oficial de Python: [https://www.python.org/downloads/](https://www.python.org/downloads/)\n",
    "2. Descarga la última versión estable haciendo clic en **\"Download Python 3.13\"**.\n",
    "3. Abre el archivo `.exe` descargado.\n",
    "\n",
    "**Paso 2: Configurar la instalación**\n",
    "1. En la primera ventana, **marca** la casilla **\"Add Python to PATH\"** (esto es fundamental).\n",
    "2. Haz clic en **\"Customize installation\"** para revisar las opciones.\n",
    "3. Deja todas las opciones marcadas y haz clic en **\"Next\"**.\n",
    "4. En la siguiente ventana, selecciona una carpeta de instalación (por ejemplo, `C:\\Python`).\n",
    "5. Presiona **\"Install\"** y espera a que finalice la instalación.\n",
    "\n",
    "**Paso 3: Configurar la variable de entorno PATH**\n",
    "**Este paso es crucial para que Python funcione correctamente en cualquier terminal.**  \n",
    "\n",
    "1. Busca **\"Editar las variables de entorno del sistema\"**.    \n",
    "2. En la ventana haz clic en \"variables de entorno\" y selecciona **\"Path\"** y haz clic en **\"Editar\"**.  \n",
    "3. Agrega las siguientes rutas en este orden (según la carpeta donde instalaste Python):\n",
    "   - `C:\\Python` (o la ruta donde lo instalaste).\n",
    "   - `C:\\Python\\Scripts` (para herramientas adicionales).  \n",
    "4. Guarda los cambios y cierra todas las ventanas.\n",
    "\n",
    "*¿Por qué es importante este paso?* \n",
    "*Configurar `PATH` permite ejecutar Python y sus herramientas desde cualquier ubicación en la terminal, sin necesidad de escribir la ruta completa del ejecutable.*\n",
    "\n",
    "**Paso 4: Verificar la instalación**\n",
    "1. Abre la terminal (`cmd`) buscándola en el menú de inicio.\n",
    "2. Escribe `python --version` y presiona Enter.\n",
    "3. Si todo está bien, verás algo como esto:  **Python 3.13.1**\n",
    "4. Para salir, escribe `exit()` y presiona Enter.\n",
    "\n",
    "**¡Listo! Python está instalado y correctamente configurado en tu computadora.**  \n",
    "\n"
   ]
  },
  {
   "cell_type": "markdown",
   "metadata": {},
   "source": [
    "<br>\n",
    "\n",
    "### <a id=\"entronos\"></a> <span style=\"color:#FFB3A7; font-size:20px\"> **JupyterLab y VS Code: Entornos para Python** </span>\n",
    "***"
   ]
  },
  {
   "cell_type": "markdown",
   "metadata": {},
   "source": [
    "<br>\n",
    "\n",
    "->  <span style=\"color:darkorange\">**Instalar Anaconda**</span>\n",
    "\n",
    "<br>"
   ]
  },
  {
   "cell_type": "markdown",
   "metadata": {},
   "source": [
    "Instalar Jupyter Notebook con Anaconda para trabajar con archivos .ipynb:\n",
    "1. **Descargar Anaconda**:  \n",
    "   - Ve a [https://www.anaconda.com/products/individual](https://www.anaconda.com/products/individual) y descarga la versión de Anaconda que se adapte a tu sistema operativo (Windows, macOS o Linux).\n",
    "2. **Instalar Anaconda**:  \n",
    "   - Abre el archivo descargado y sigue las instrucciones del instalador.\n",
    "   - **Recomendación**: Asegúrate de marcar la opción que dice **\"Add Anaconda to my PATH environment variable\"** (esto permite ejecutar Anaconda desde la terminal).\n",
    "\n",
    "Con Anaconda, ya tendrás **Jupyter Notebook** instalada.\n"
   ]
  },
  {
   "cell_type": "markdown",
   "metadata": {},
   "source": [
    "<br>\n",
    "\n",
    "->  <span style=\"color:darkorange\">**Instalar Visual Studio Code**</span>\n",
    "\n",
    "<br>"
   ]
  },
  {
   "cell_type": "markdown",
   "metadata": {},
   "source": [
    "**Paso 1: Descargar e instalar Visual Studio Code**\n",
    "\n",
    "1. **Descargar Visual Studio Code**:\n",
    "   - Ve al sitio web oficial de Visual Studio Code: [https://code.visualstudio.com/](https://code.visualstudio.com/)\n",
    "   - Haz clic en \"Download\" para tu sistema operativo (Windows, macOS o Linux).\n",
    "\n",
    "2. **Instalar Visual Studio Code**:\n",
    "   - Abre el archivo descargado y sigue las instrucciones del instalador.\n",
    "   - Durante la instalación, asegúrate de marcar la opción que dice **\"Add to PATH\"** para que puedas abrir VS Code desde la línea de comandos.\n",
    "\n",
    "**Paso 2: Instalar la extensión de Python y Jupyter en Visual Studio Code**\n",
    "\n",
    "1. **Abrir Visual Studio Code**:\n",
    "   - Si ya tienes VS Code instalado, ábrelo desde el menú de inicio o la línea de comandos.\n",
    "   \n",
    "2. **Instalar la extensión de Python y Jupyter en Visual Studio Code**:\n",
    "   - Una vez dentro de Visual Studio Code, ve a la barra lateral izquierda y haz clic en el ícono de **extensiones** (es un cuadrito con cuatro cuadrados pequeños).\n",
    "   - En la barra de búsqueda de extensiones, escribe **Python** y selecciona la extensión oficial de Microsoft, que será la primera en la lista.\n",
    "   - Haz clic en **Instalar**.\n",
    "   - En la misma barra de búsqueda de extensiones, escribe **Jupyter** y selecciona la extensión oficial de Microsoft para Jupyter Notebooks.\n",
    "   - Haz clic en **Instalar**.\n",
    "\n",
    "**Paso 3: Configurar Python en Visual Studio Code**\n",
    "\n",
    "1. **Seleccionar el intérprete de Python**:\n",
    "   - Una vez instalada la extensión de Python, abre un archivo `.py` o crea uno nuevo.\n",
    "   - Visual Studio Code debería detectar automáticamente la instalación de Python. Si no es así, puedes seleccionar el intérprete manualmente:\n",
    "     - Haz clic en el **ícono de Python** que aparece en la esquina inferior izquierda (o presiona `Ctrl + Shift + P` y escribe `Python: Select Interpreter`).\n",
    "     - Selecciona la versión de Python que deseas usar.\n",
    "\n",
    "2. **Verificar la instalación**:\n",
    "   - Abre la terminal integrada de VS Code (con `Ctrl + ``) y escribe el siguiente comando para verificar que Python está configurado correctamente:\n",
    "   \n",
    "     ```\n",
    "     python --version\n",
    "     ```\n",
    "\n",
    "   Si la terminal devuelve la versión de Python instalada, entonces todo está listo.\n",
    "\n"
   ]
  },
  {
   "cell_type": "markdown",
   "metadata": {},
   "source": [
    "### <a id=\"librerias\"></a> <span style=\"color:#FFB3A7; font-size:20px\"> **Librerías** </span>\n",
    "***"
   ]
  },
  {
   "cell_type": "markdown",
   "metadata": {},
   "source": [
    "Las librerías que importaremos a continuación son herramientas esenciales para manejar datos, realizar visualizaciones y generar diagramas estereográficos (estereonets) de los datos."
   ]
  },
  {
   "cell_type": "markdown",
   "metadata": {},
   "source": [
    "<br>\n",
    "\n",
    "->  <span style=\"color:darkorange\">**Explicación de las bibliotecas utilizadas en el código:**</span>\n",
    "\n",
    "<br>"
   ]
  },
  {
   "cell_type": "markdown",
   "metadata": {},
   "source": [
    "\n",
    "\n",
    "**import pandas as pd**\n",
    "\n",
    "📊 Pandas es una biblioteca para manipulación y análisis de datos. \n",
    "- pd es la abreviatura estándar.\n",
    "- Se usa para cargar y manejar datos en DataFrames (tablas de datos).\n",
    "\n",
    "**import matplotlib.pyplot as plt**\n",
    "\n",
    "📉 Matplotlib permite crear gráficos en Python.\n",
    "- plt es la abreviatura estándar.\n",
    "- Se usa para generar gráficos como histogramas, curvas y dispersión.\n",
    "\n",
    "**import mplstereonet**\n",
    "\n",
    "🧭 mplstereonet es una extensión de matplotlib para crear diagramas estereográficos.\n",
    "- Se usa en geología estructural para representar planos y polos de fallas, pliegues y fracturas.\n",
    "\n",
    "**import seaborn as sns**\n",
    "\n",
    "🎨 Seaborn mejora la visualización de gráficos de matplotlib, agregando mejor estética y facilidad para gráficos estadísticos.\n",
    "- sns es la abreviatura estándar.\n",
    "- Se usa para generar gráficos de densidad, correlación y visualización de datos complejos.\n",
    "\n",
    "**import numpy as np**\n",
    "\n",
    "NumPy es una biblioteca fundamental para el cálculo numérico en Python.\n",
    "- np es la abreviatura estándar.\n",
    "- Se usa para trabajar con arreglos multidimensionales (arrays) y realizar operaciones matemáticas eficientes.\n",
    "- Proporciona funciones avanzadas para álgebra lineal, estadística y generación de números aleatorios.\n",
    "\n",
    "\n"
   ]
  },
  {
   "cell_type": "markdown",
   "metadata": {},
   "source": [
    "<br>\n",
    "\n",
    "->  <span style=\"color:darkorange\">**Resumen de los pasos generales para instalar cualquier biblioteca en Python**</span>\n",
    "\n",
    "<br>"
   ]
  },
  {
   "cell_type": "markdown",
   "metadata": {},
   "source": [
    "**1. Usar pip para instalar librerías:**\n",
    "\n",
    "1. **Abrir una terminal o símbolo del sistema**:\n",
    "   - En Windows, busca \"Símbolo del sistema\" o \"Command Prompt\".\n",
    "\n",
    "2. **Instalar una biblioteca con pip**:\n",
    "   - Para instalar una biblioteca, utiliza el siguiente comando:\n",
    "     ```bash\n",
    "     pip install nombre_de_la_biblioteca\n",
    "     ```\n",
    "   - **Ejemplo**: Si deseas instalar la biblioteca `pandas`, escribe:\n",
    "     ```bash\n",
    "     pip install pandas\n",
    "     ```\n",
    "\n",
    "**2. Verificar la instalación:**\n",
    "\n",
    "Una vez que la biblioteca se haya instalado, puedes verificar si se ha instalado correctamente ejecutando el siguiente código en Python:"
   ]
  },
  {
   "cell_type": "code",
   "execution_count": null,
   "metadata": {},
   "outputs": [],
   "source": [
    "import pandas as pd\n",
    "print(pd.__version__)  # Verifica la versión de Pandas instalada\n"
   ]
  },
  {
   "cell_type": "markdown",
   "metadata": {},
   "source": [
    "<br>\n",
    "\n",
    "->  <span style=\"color:darkorange\">**Intaslación de cada biblioteca**</span>\n",
    "\n",
    "<br>"
   ]
  },
  {
   "cell_type": "markdown",
   "metadata": {},
   "source": [
    "**1. Pandas**\n",
    "\n",
    "- **Página oficial**: [Pandas - Documentation](https://pandas.pydata.org/pandas-docs/stable/getting_started/install.html)\n",
    "- Abre la terminal (o el símbolo del sistema en Windows).\n",
    "- Ejecuta el siguiente comando para instalar Pandas:\n"
   ]
  },
  {
   "cell_type": "code",
   "execution_count": null,
   "metadata": {},
   "outputs": [],
   "source": [
    "pip install pandas"
   ]
  },
  {
   "cell_type": "markdown",
   "metadata": {},
   "source": [
    "**2. Matplotlib**\n",
    "\n",
    "- **Página oficial**: [Matplotlib - Official Site](https://matplotlib.org/)\n",
    "\n",
    "- Abre la terminal (o el símbolo del sistema en Windows).\n",
    "- Ejecuta el siguiente comando para instalar Matplotlib:"
   ]
  },
  {
   "cell_type": "code",
   "execution_count": null,
   "metadata": {},
   "outputs": [],
   "source": [
    "pip install matplotlib"
   ]
  },
  {
   "cell_type": "markdown",
   "metadata": {},
   "source": [
    "**3. SciPy (scipy.stats)**\n",
    "\n",
    "- **Página oficial de descarga**:  [SciPy - Official Site](https://scipy.org/)\n",
    "\n",
    "- Abre la terminal (o el símbolo del sistema en Windows).\n",
    "- Ejecuta el siguiente comando para instalar SciPy:"
   ]
  },
  {
   "cell_type": "code",
   "execution_count": null,
   "metadata": {},
   "outputs": [],
   "source": [
    "pip install scipy"
   ]
  },
  {
   "cell_type": "markdown",
   "metadata": {},
   "source": [
    "**4. mplstereonet**\n",
    "\n",
    "- **Página oficial de descarga**: [mplstereonet - Official Site](https://mplstereonet.readthedocs.io/en/latest/)\n",
    "\n",
    "- Abre la terminal (o el símbolo del sistema en Windows).\n",
    "- Ejecuta el siguiente comando para instalar mplstereonet:"
   ]
  },
  {
   "cell_type": "code",
   "execution_count": null,
   "metadata": {},
   "outputs": [],
   "source": [
    "pip install mplstereonet"
   ]
  },
  {
   "cell_type": "markdown",
   "metadata": {},
   "source": [
    "**5. Seaborn**\n",
    "\n",
    "- **Página oficial de descarga**: [Seaborn - Official Site](https://seaborn.pydata.org/)\n",
    "\n",
    "- Abre la terminal (o el símbolo del sistema en Windows).\n",
    "- Ejecuta el siguiente comando para instalar Seaborn:"
   ]
  },
  {
   "cell_type": "code",
   "execution_count": null,
   "metadata": {},
   "outputs": [],
   "source": [
    "pip install seaborn"
   ]
  },
  {
   "cell_type": "markdown",
   "metadata": {},
   "source": [
    "**5. Numpy**\n",
    "\n",
    "- **Página oficial de descarga**: [Numpy - Official Site](https://numpy.org/)\n",
    "\n",
    "- Abre la terminal (o el símbolo del sistema en Windows).\n",
    "- Ejecuta el siguiente comando para instalar Numpy:"
   ]
  },
  {
   "cell_type": "code",
   "execution_count": null,
   "metadata": {},
   "outputs": [],
   "source": [
    "pip install Numpy"
   ]
  },
  {
   "cell_type": "markdown",
   "metadata": {},
   "source": [
    "<br>\n",
    "\n",
    "->  <span style=\"color:darkorange\">**Importamos las bibliotecas necesarias para trabajar con datos y visualización en Python::**</span>\n",
    "\n",
    "<br>"
   ]
  },
  {
   "cell_type": "code",
   "execution_count": null,
   "metadata": {},
   "outputs": [],
   "source": [
    "import pandas as pd  # Utilizada para manejar datos en formato de tablas (DataFrames), ideal para estructurar y procesar datos.\n",
    "\n",
    "import matplotlib.pyplot as plt  # Librería para crear gráficos y visualizaciones en 2D (gráficos de líneas, barras, dispersión, etc.).\n",
    "from matplotlib.ticker import AutoMinorLocator, MultipleLocator, MaxNLocator  # Herramientas para configurar los valores y etiquetas en los ejes de los gráficos.\n",
    "from matplotlib.lines import Line2D  # Importa Line2D, útil para personalizar los elementos de la leyenda y otras líneas en los gráficos.\n",
    "from matplotlib.patches import Patch  # Se utiliza para crear parches, como rectángulos, que pueden ser agregados a las leyendas de los gráficos.\n",
    "\n",
    "from scipy.stats import linregress  # Función para realizar regresiones lineales y obtener parámetros de ajuste en datos.\n",
    "import mplstereonet  # Librería para crear diagramas estereográficos (estereonets) que permiten representar datos geológicos en 3D en una proyección 2D.\n",
    "import seaborn as sns  # Seaborn es una librería para crear gráficos estadísticos (como histogramas, boxplots, etc.) con un estilo más atractivo y simplificado.\n"
   ]
  },
  {
   "cell_type": "markdown",
   "metadata": {},
   "source": [
    "📌 **Nota:** \n",
    "\n",
    "**¿Qué es una librería en Python?**\n",
    "\n",
    "Una **librería** es un conjunto de funciones y herramientas diseñadas para realizar tareas específicas, evitando que el usuario tenga que escribir código desde cero.\n",
    "\n",
    "**Formas de importar una librería en Python:**\n",
    "\n",
    "- **`import`**: Carga la librería completa.  \n",
    "- **`as`**: Permite asignar un nombre abreviado a la librería.   \n",
    "- **`from`**: Se usa para importar solo una parte de la librería (un módulo o función específica).  "
   ]
  }
 ],
 "metadata": {
  "kernelspec": {
   "display_name": "base",
   "language": "python",
   "name": "python3"
  },
  "language_info": {
   "codemirror_mode": {
    "name": "ipython",
    "version": 3
   },
   "file_extension": ".py",
   "mimetype": "text/x-python",
   "name": "python",
   "nbconvert_exporter": "python",
   "pygments_lexer": "ipython3",
   "version": "3.11.5"
  }
 },
 "nbformat": 4,
 "nbformat_minor": 2
}
